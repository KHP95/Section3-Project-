{
 "cells": [
  {
   "cell_type": "markdown",
   "id": "21cbcc5a-3ad8-447a-b717-4cf73e1967b2",
   "metadata": {
    "id": "21cbcc5a-3ad8-447a-b717-4cf73e1967b2",
    "tags": []
   },
   "source": [
    "# Section3 Project Colab\n",
    "* 코랩에서 모델 피팅을 담당하는부분\n",
    "* 로컬환경의 GPU보다 코랩프로의 a100이 성능이 훨씬좋기때문에  \n",
    "피팅은 전부 코랩에서 진행\n"
   ]
  },
  {
   "cell_type": "code",
   "execution_count": 1,
   "id": "Cb4_MiNSwlD9",
   "metadata": {
    "colab": {
     "base_uri": "https://localhost:8080/"
    },
    "id": "Cb4_MiNSwlD9",
    "outputId": "5b0ff465-033a-454e-ac94-c0379f717f2b"
   },
   "outputs": [
    {
     "name": "stdout",
     "output_type": "stream",
     "text": [
      "Mounted at /content/drive\n"
     ]
    }
   ],
   "source": [
    "try:\n",
    "    import google.colab\n",
    "    google.colab.drive.mount('/content/drive')\n",
    "    path = \"/content/drive/MyDrive/AI_DB_gdrive/project3_data/to_colab_data/\"\n",
    "except:\n",
    "    path = \"to_colab_data/\"\n",
    "    pass"
   ]
  },
  {
   "cell_type": "code",
   "execution_count": 2,
   "id": "8a98a85c-52fb-46ff-a551-8b8b68bce799",
   "metadata": {
    "id": "8a98a85c-52fb-46ff-a551-8b8b68bce799"
   },
   "outputs": [],
   "source": [
    "import pandas as pd\n",
    "import numpy as np\n",
    "import matplotlib.pyplot as plt\n",
    "\n",
    "import tensorflow as tf\n",
    "import tensorflow.keras as keras\n",
    "\n",
    "import os\n",
    "\n",
    "# 데이터셋 불러오기\n",
    "train_ds = tf.data.Dataset.load(path+'train',\n",
    "                               compression='None')\n",
    "valid_ds = tf.data.Dataset.load(path+'valid',\n",
    "                               compression='None')\n",
    "test_ds = tf.data.Dataset.load(path+'test',\n",
    "                               compression='None')\n",
    "\n",
    "# 데이터 준비\n",
    "train_ds = train_ds.cache()\n",
    "train_ds = train_ds.batch(32).prefetch(tf.data.AUTOTUNE)\n",
    "valid_ds = valid_ds.cache().batch(32)\n",
    "test_df = test_ds.batch(32)\n"
   ]
  },
  {
   "cell_type": "code",
   "execution_count": 3,
   "id": "ffc9e84c-97f5-41df-9f3f-c72b0a89c244",
   "metadata": {
    "id": "ffc9e84c-97f5-41df-9f3f-c72b0a89c244"
   },
   "outputs": [],
   "source": [
    "# 콜백 정의\n",
    "# reduce_lr : 학습이 잘 안되면(3 epochs) 학습률 감소\n",
    "# e_stop : 특정epoch이상 차도 없으면(10 epochs) 중단\n",
    "reduce_lr = tf.keras.callbacks.ReduceLROnPlateau(monitor='val_loss',\n",
    "                                                 factor=0.5, patience=3,\n",
    "                                                 verbose=0, mode='auto')\n",
    "e_stop = tf.keras.callbacks.EarlyStopping(monitor='val_loss',\n",
    "                                          patience=10,\n",
    "                                          restore_best_weights=True)\n",
    "# TensorBoard callback 정의\n",
    "TBoard1 = keras.callbacks.TensorBoard(\n",
    "    log_dir='/content/Tensorboard/resnet',\n",
    "    histogram_freq=1\n",
    ")"
   ]
  },
  {
   "cell_type": "code",
   "execution_count": 4,
   "id": "12c71ff6-e5cb-4e08-9879-1be3a3bc2be5",
   "metadata": {
    "colab": {
     "base_uri": "https://localhost:8080/"
    },
    "id": "12c71ff6-e5cb-4e08-9879-1be3a3bc2be5",
    "outputId": "25140f92-7de3-4723-c07a-21389fa9283e"
   },
   "outputs": [
    {
     "name": "stdout",
     "output_type": "stream",
     "text": [
      "Epoch 1/100\n",
      "148/148 [==============================] - 65s 278ms/step - loss: 0.8325 - acc: 0.6636 - val_loss: 16.2977 - val_acc: 0.2935 - lr: 0.0100\n",
      "Epoch 2/100\n",
      "148/148 [==============================] - 5s 36ms/step - loss: 0.5332 - acc: 0.7630 - val_loss: 6.2774 - val_acc: 0.2957 - lr: 0.0100\n",
      "Epoch 3/100\n",
      "148/148 [==============================] - 5s 36ms/step - loss: 0.4642 - acc: 0.7981 - val_loss: 17.9198 - val_acc: 0.4891 - lr: 0.0100\n",
      "Epoch 4/100\n",
      "148/148 [==============================] - 5s 36ms/step - loss: 0.4284 - acc: 0.8155 - val_loss: 13.9176 - val_acc: 0.3891 - lr: 0.0100\n",
      "Epoch 5/100\n",
      "148/148 [==============================] - 5s 36ms/step - loss: 0.4072 - acc: 0.8305 - val_loss: 2.6911 - val_acc: 0.3761 - lr: 0.0100\n",
      "Epoch 6/100\n",
      "148/148 [==============================] - 5s 36ms/step - loss: 0.4106 - acc: 0.8271 - val_loss: 38.4544 - val_acc: 0.3543 - lr: 0.0100\n",
      "Epoch 7/100\n",
      "148/148 [==============================] - 5s 36ms/step - loss: 0.4197 - acc: 0.8250 - val_loss: 6.5059 - val_acc: 0.3739 - lr: 0.0100\n",
      "Epoch 8/100\n",
      "148/148 [==============================] - 5s 36ms/step - loss: 0.5129 - acc: 0.7814 - val_loss: 0.9114 - val_acc: 0.6630 - lr: 0.0100\n",
      "Epoch 9/100\n",
      "148/148 [==============================] - 5s 36ms/step - loss: 0.3591 - acc: 0.8519 - val_loss: 22.0756 - val_acc: 0.3804 - lr: 0.0100\n",
      "Epoch 10/100\n",
      "148/148 [==============================] - 5s 36ms/step - loss: 0.3147 - acc: 0.8762 - val_loss: 0.6917 - val_acc: 0.7370 - lr: 0.0100\n",
      "Epoch 11/100\n",
      "148/148 [==============================] - 5s 36ms/step - loss: 0.3577 - acc: 0.8591 - val_loss: 0.6657 - val_acc: 0.7761 - lr: 0.0100\n",
      "Epoch 12/100\n",
      "148/148 [==============================] - 5s 36ms/step - loss: 0.3256 - acc: 0.8703 - val_loss: 0.4072 - val_acc: 0.8261 - lr: 0.0100\n",
      "Epoch 13/100\n",
      "148/148 [==============================] - 5s 36ms/step - loss: 0.3008 - acc: 0.8741 - val_loss: 0.4731 - val_acc: 0.7761 - lr: 0.0100\n",
      "Epoch 14/100\n",
      "148/148 [==============================] - 5s 36ms/step - loss: 0.2815 - acc: 0.8815 - val_loss: 0.5268 - val_acc: 0.7761 - lr: 0.0100\n",
      "Epoch 15/100\n",
      "148/148 [==============================] - 5s 35ms/step - loss: 0.2916 - acc: 0.8840 - val_loss: 1.4033 - val_acc: 0.7130 - lr: 0.0100\n",
      "Epoch 16/100\n",
      "148/148 [==============================] - 5s 36ms/step - loss: 0.2474 - acc: 0.8978 - val_loss: 0.2373 - val_acc: 0.9152 - lr: 0.0050\n",
      "Epoch 17/100\n",
      "148/148 [==============================] - 5s 36ms/step - loss: 0.2237 - acc: 0.9137 - val_loss: 0.5509 - val_acc: 0.7848 - lr: 0.0050\n",
      "Epoch 18/100\n",
      "148/148 [==============================] - 5s 36ms/step - loss: 0.2169 - acc: 0.9168 - val_loss: 4.4559 - val_acc: 0.6783 - lr: 0.0050\n",
      "Epoch 19/100\n",
      "148/148 [==============================] - 5s 35ms/step - loss: 0.2321 - acc: 0.9088 - val_loss: 0.5263 - val_acc: 0.8478 - lr: 0.0050\n",
      "Epoch 20/100\n",
      "148/148 [==============================] - 5s 36ms/step - loss: 0.1684 - acc: 0.9357 - val_loss: 0.3318 - val_acc: 0.8783 - lr: 0.0025\n",
      "Epoch 21/100\n",
      "148/148 [==============================] - 5s 36ms/step - loss: 0.1678 - acc: 0.9367 - val_loss: 1.2987 - val_acc: 0.7478 - lr: 0.0025\n",
      "Epoch 22/100\n",
      "148/148 [==============================] - 5s 36ms/step - loss: 0.1473 - acc: 0.9418 - val_loss: 50.5428 - val_acc: 0.3913 - lr: 0.0025\n",
      "Epoch 23/100\n",
      "148/148 [==============================] - 5s 36ms/step - loss: 0.1344 - acc: 0.9488 - val_loss: 0.1376 - val_acc: 0.9565 - lr: 0.0012\n",
      "Epoch 24/100\n",
      "148/148 [==============================] - 5s 36ms/step - loss: 0.1200 - acc: 0.9562 - val_loss: 0.1391 - val_acc: 0.9522 - lr: 0.0012\n",
      "Epoch 25/100\n",
      "148/148 [==============================] - 5s 36ms/step - loss: 0.1129 - acc: 0.9581 - val_loss: 1.8279 - val_acc: 0.8000 - lr: 0.0012\n",
      "Epoch 26/100\n",
      "148/148 [==============================] - 5s 35ms/step - loss: 0.1149 - acc: 0.9604 - val_loss: 0.2146 - val_acc: 0.9413 - lr: 0.0012\n",
      "Epoch 27/100\n",
      "148/148 [==============================] - 5s 36ms/step - loss: 0.0959 - acc: 0.9653 - val_loss: 0.3567 - val_acc: 0.9261 - lr: 6.2500e-04\n",
      "Epoch 28/100\n",
      "148/148 [==============================] - 5s 36ms/step - loss: 0.0958 - acc: 0.9655 - val_loss: 0.2715 - val_acc: 0.9304 - lr: 6.2500e-04\n",
      "Epoch 29/100\n",
      "148/148 [==============================] - 5s 36ms/step - loss: 0.0830 - acc: 0.9683 - val_loss: 0.3091 - val_acc: 0.9239 - lr: 6.2500e-04\n",
      "Epoch 30/100\n",
      "148/148 [==============================] - 5s 36ms/step - loss: 0.0890 - acc: 0.9680 - val_loss: 0.1590 - val_acc: 0.9674 - lr: 3.1250e-04\n",
      "Epoch 31/100\n",
      "148/148 [==============================] - 5s 36ms/step - loss: 0.0811 - acc: 0.9714 - val_loss: 0.1416 - val_acc: 0.9696 - lr: 3.1250e-04\n",
      "Epoch 32/100\n",
      "148/148 [==============================] - 5s 36ms/step - loss: 0.0822 - acc: 0.9719 - val_loss: 0.0803 - val_acc: 0.9848 - lr: 3.1250e-04\n",
      "Epoch 33/100\n",
      "148/148 [==============================] - 5s 35ms/step - loss: 0.0803 - acc: 0.9702 - val_loss: 0.1866 - val_acc: 0.9565 - lr: 3.1250e-04\n",
      "Epoch 34/100\n",
      "148/148 [==============================] - 5s 36ms/step - loss: 0.0770 - acc: 0.9714 - val_loss: 0.1325 - val_acc: 0.9674 - lr: 3.1250e-04\n",
      "Epoch 35/100\n",
      "148/148 [==============================] - 5s 36ms/step - loss: 0.0781 - acc: 0.9706 - val_loss: 0.1987 - val_acc: 0.9543 - lr: 3.1250e-04\n",
      "Epoch 36/100\n",
      "148/148 [==============================] - 5s 36ms/step - loss: 0.0686 - acc: 0.9752 - val_loss: 0.0940 - val_acc: 0.9783 - lr: 1.5625e-04\n",
      "Epoch 37/100\n",
      "148/148 [==============================] - 5s 36ms/step - loss: 0.0654 - acc: 0.9750 - val_loss: 0.0943 - val_acc: 0.9717 - lr: 1.5625e-04\n",
      "Epoch 38/100\n",
      "148/148 [==============================] - 5s 36ms/step - loss: 0.0679 - acc: 0.9761 - val_loss: 0.0880 - val_acc: 0.9826 - lr: 1.5625e-04\n",
      "Epoch 39/100\n",
      "148/148 [==============================] - 5s 36ms/step - loss: 0.0572 - acc: 0.9799 - val_loss: 0.0651 - val_acc: 0.9848 - lr: 7.8125e-05\n",
      "Epoch 40/100\n",
      "148/148 [==============================] - 5s 35ms/step - loss: 0.0616 - acc: 0.9765 - val_loss: 0.0725 - val_acc: 0.9848 - lr: 7.8125e-05\n",
      "Epoch 41/100\n",
      "148/148 [==============================] - 5s 36ms/step - loss: 0.0605 - acc: 0.9791 - val_loss: 0.1026 - val_acc: 0.9674 - lr: 7.8125e-05\n",
      "Epoch 42/100\n",
      "148/148 [==============================] - 5s 36ms/step - loss: 0.0590 - acc: 0.9791 - val_loss: 0.0843 - val_acc: 0.9826 - lr: 7.8125e-05\n",
      "Epoch 43/100\n",
      "148/148 [==============================] - 5s 36ms/step - loss: 0.0610 - acc: 0.9797 - val_loss: 0.0719 - val_acc: 0.9870 - lr: 3.9062e-05\n",
      "Epoch 44/100\n",
      "148/148 [==============================] - 5s 36ms/step - loss: 0.0558 - acc: 0.9799 - val_loss: 0.0836 - val_acc: 0.9826 - lr: 3.9062e-05\n",
      "Epoch 45/100\n",
      "148/148 [==============================] - 5s 36ms/step - loss: 0.0601 - acc: 0.9776 - val_loss: 0.0708 - val_acc: 0.9848 - lr: 3.9062e-05\n",
      "Epoch 46/100\n",
      "148/148 [==============================] - 5s 36ms/step - loss: 0.0616 - acc: 0.9778 - val_loss: 0.0755 - val_acc: 0.9848 - lr: 1.9531e-05\n",
      "Epoch 47/100\n",
      "148/148 [==============================] - 5s 35ms/step - loss: 0.0593 - acc: 0.9761 - val_loss: 0.0812 - val_acc: 0.9826 - lr: 1.9531e-05\n",
      "Epoch 48/100\n",
      "148/148 [==============================] - 5s 36ms/step - loss: 0.0576 - acc: 0.9788 - val_loss: 0.0693 - val_acc: 0.9870 - lr: 1.9531e-05\n",
      "Epoch 49/100\n",
      "148/148 [==============================] - 5s 36ms/step - loss: 0.0579 - acc: 0.9791 - val_loss: 0.0736 - val_acc: 0.9870 - lr: 9.7656e-06\n"
     ]
    }
   ],
   "source": [
    "# Custom ResNet 학습\n",
    "model = keras.models.load_model(path+'Custom_ResNet.keras')\n",
    "model.compile(optimizer=keras.optimizers.Adam(0.01),\n",
    "              loss='sparse_categorical_crossentropy',\n",
    "              metrics=['acc'])\n",
    "\n",
    "hist = model.fit(train_ds,\n",
    "                 validation_data=valid_ds,\n",
    "                 epochs=100,\n",
    "                 callbacks=[reduce_lr, e_stop, TBoard1])\n",
    "\n",
    "model._name = 'Trained_ResNet'\n",
    "keras.models.save_model(model, '/content/Trained_ResNet.keras')\n",
    "hist_csv = pd.DataFrame(hist.history)\n",
    "hist_csv.to_csv('ResNetHist.csv')\n",
    "# 약 50epoch 에서 훈련중단되었음."
   ]
  },
  {
   "cell_type": "code",
   "execution_count": 5,
   "id": "10af487a-8295-4b3d-b10b-210e82b5067f",
   "metadata": {
    "id": "10af487a-8295-4b3d-b10b-210e82b5067f"
   },
   "outputs": [],
   "source": [
    "# Custom ResNetV2 콜백 정의\n",
    "# reduce_lr : 학습이 잘 안되면(3 epochs) 학습률 감소\n",
    "# e_stop : 특정epoch이상 차도 없으면(20 epochs) 중단\n",
    "reduce_lr2 = tf.keras.callbacks.ReduceLROnPlateau(monitor='val_loss',\n",
    "                                                 factor=0.5, patience=3,\n",
    "                                                 verbose=0, mode='auto')\n",
    "e_stop2 = tf.keras.callbacks.EarlyStopping(monitor='val_loss',\n",
    "                                           patience=20,\n",
    "                                           restore_best_weights=True)\n",
    "TBoard2 = keras.callbacks.TensorBoard(\n",
    "    log_dir='/content/Tensorboard/resnetv2',\n",
    "    histogram_freq=1\n",
    ")"
   ]
  },
  {
   "cell_type": "code",
   "execution_count": 6,
   "id": "07ebaa54-0990-469c-af01-f44d67372226",
   "metadata": {
    "colab": {
     "base_uri": "https://localhost:8080/"
    },
    "id": "07ebaa54-0990-469c-af01-f44d67372226",
    "outputId": "c7a68fc9-f869-480c-f404-5d93f7087e54"
   },
   "outputs": [
    {
     "name": "stdout",
     "output_type": "stream",
     "text": [
      "Epoch 1/200\n",
      "148/148 [==============================] - 29s 65ms/step - loss: 0.6453 - acc: 0.7158 - val_loss: 2.1111 - val_acc: 0.3457 - lr: 0.0100\n",
      "Epoch 2/200\n",
      "148/148 [==============================] - 8s 54ms/step - loss: 0.4345 - acc: 0.8168 - val_loss: 2.3175 - val_acc: 0.3457 - lr: 0.0100\n",
      "Epoch 3/200\n",
      "148/148 [==============================] - 8s 54ms/step - loss: 0.3622 - acc: 0.8506 - val_loss: 1.3159 - val_acc: 0.5174 - lr: 0.0100\n",
      "Epoch 4/200\n",
      "148/148 [==============================] - 8s 54ms/step - loss: 0.2969 - acc: 0.8804 - val_loss: 1.4722 - val_acc: 0.4739 - lr: 0.0100\n",
      "Epoch 5/200\n",
      "148/148 [==============================] - 8s 54ms/step - loss: 0.2949 - acc: 0.8798 - val_loss: 2.3588 - val_acc: 0.5239 - lr: 0.0100\n",
      "Epoch 6/200\n",
      "148/148 [==============================] - 8s 54ms/step - loss: 0.2756 - acc: 0.8866 - val_loss: 2.7501 - val_acc: 0.4674 - lr: 0.0100\n",
      "Epoch 7/200\n",
      "148/148 [==============================] - 8s 54ms/step - loss: 0.2088 - acc: 0.9192 - val_loss: 0.2381 - val_acc: 0.9043 - lr: 0.0050\n",
      "Epoch 8/200\n",
      "148/148 [==============================] - 8s 54ms/step - loss: 0.1768 - acc: 0.9319 - val_loss: 0.2353 - val_acc: 0.9087 - lr: 0.0050\n",
      "Epoch 9/200\n",
      "148/148 [==============================] - 8s 54ms/step - loss: 0.1706 - acc: 0.9359 - val_loss: 0.5647 - val_acc: 0.8326 - lr: 0.0050\n",
      "Epoch 10/200\n",
      "148/148 [==============================] - 8s 55ms/step - loss: 0.1451 - acc: 0.9405 - val_loss: 0.1326 - val_acc: 0.9478 - lr: 0.0050\n",
      "Epoch 11/200\n",
      "148/148 [==============================] - 8s 54ms/step - loss: 0.1358 - acc: 0.9507 - val_loss: 0.2175 - val_acc: 0.9239 - lr: 0.0050\n",
      "Epoch 12/200\n",
      "148/148 [==============================] - 8s 54ms/step - loss: 0.1192 - acc: 0.9581 - val_loss: 0.4877 - val_acc: 0.8783 - lr: 0.0050\n",
      "Epoch 13/200\n",
      "148/148 [==============================] - 8s 54ms/step - loss: 0.1123 - acc: 0.9594 - val_loss: 0.3411 - val_acc: 0.8717 - lr: 0.0050\n",
      "Epoch 14/200\n",
      "148/148 [==============================] - 8s 54ms/step - loss: 0.0705 - acc: 0.9746 - val_loss: 0.3928 - val_acc: 0.8761 - lr: 0.0025\n",
      "Epoch 15/200\n",
      "148/148 [==============================] - 8s 54ms/step - loss: 0.0602 - acc: 0.9805 - val_loss: 0.4279 - val_acc: 0.9087 - lr: 0.0025\n",
      "Epoch 16/200\n",
      "148/148 [==============================] - 8s 54ms/step - loss: 0.0519 - acc: 0.9797 - val_loss: 0.0922 - val_acc: 0.9630 - lr: 0.0025\n",
      "Epoch 17/200\n",
      "148/148 [==============================] - 8s 54ms/step - loss: 0.0585 - acc: 0.9795 - val_loss: 0.0876 - val_acc: 0.9761 - lr: 0.0025\n",
      "Epoch 18/200\n",
      "148/148 [==============================] - 8s 54ms/step - loss: 0.0403 - acc: 0.9850 - val_loss: 0.2834 - val_acc: 0.9239 - lr: 0.0025\n",
      "Epoch 19/200\n",
      "148/148 [==============================] - 8s 54ms/step - loss: 0.0432 - acc: 0.9843 - val_loss: 0.0555 - val_acc: 0.9848 - lr: 0.0025\n",
      "Epoch 20/200\n",
      "148/148 [==============================] - 8s 54ms/step - loss: 0.0538 - acc: 0.9799 - val_loss: 0.1576 - val_acc: 0.9609 - lr: 0.0025\n",
      "Epoch 21/200\n",
      "148/148 [==============================] - 8s 54ms/step - loss: 0.0398 - acc: 0.9862 - val_loss: 0.0682 - val_acc: 0.9848 - lr: 0.0025\n",
      "Epoch 22/200\n",
      "148/148 [==============================] - 8s 54ms/step - loss: 0.0499 - acc: 0.9826 - val_loss: 0.0878 - val_acc: 0.9674 - lr: 0.0025\n",
      "Epoch 23/200\n",
      "148/148 [==============================] - 8s 54ms/step - loss: 0.0233 - acc: 0.9920 - val_loss: 0.0455 - val_acc: 0.9891 - lr: 0.0012\n",
      "Epoch 24/200\n",
      "148/148 [==============================] - 8s 54ms/step - loss: 0.0174 - acc: 0.9943 - val_loss: 0.1156 - val_acc: 0.9761 - lr: 0.0012\n",
      "Epoch 25/200\n",
      "148/148 [==============================] - 8s 54ms/step - loss: 0.0183 - acc: 0.9930 - val_loss: 0.0867 - val_acc: 0.9804 - lr: 0.0012\n",
      "Epoch 26/200\n",
      "148/148 [==============================] - 8s 54ms/step - loss: 0.0146 - acc: 0.9943 - val_loss: 0.0686 - val_acc: 0.9804 - lr: 0.0012\n",
      "Epoch 27/200\n",
      "148/148 [==============================] - 8s 54ms/step - loss: 0.0121 - acc: 0.9966 - val_loss: 0.0395 - val_acc: 0.9913 - lr: 6.2500e-04\n",
      "Epoch 28/200\n",
      "148/148 [==============================] - 8s 54ms/step - loss: 0.0089 - acc: 0.9975 - val_loss: 0.0479 - val_acc: 0.9891 - lr: 6.2500e-04\n",
      "Epoch 29/200\n",
      "148/148 [==============================] - 8s 54ms/step - loss: 0.0059 - acc: 0.9981 - val_loss: 0.0543 - val_acc: 0.9891 - lr: 6.2500e-04\n",
      "Epoch 30/200\n",
      "148/148 [==============================] - 8s 53ms/step - loss: 0.0049 - acc: 0.9989 - val_loss: 0.0458 - val_acc: 0.9891 - lr: 6.2500e-04\n",
      "Epoch 31/200\n",
      "148/148 [==============================] - 8s 54ms/step - loss: 0.0031 - acc: 0.9994 - val_loss: 0.0523 - val_acc: 0.9891 - lr: 3.1250e-04\n",
      "Epoch 32/200\n",
      "148/148 [==============================] - 8s 54ms/step - loss: 0.0046 - acc: 0.9983 - val_loss: 0.0333 - val_acc: 0.9957 - lr: 3.1250e-04\n",
      "Epoch 33/200\n",
      "148/148 [==============================] - 8s 54ms/step - loss: 0.0051 - acc: 0.9975 - val_loss: 0.0543 - val_acc: 0.9913 - lr: 3.1250e-04\n",
      "Epoch 34/200\n",
      "148/148 [==============================] - 8s 54ms/step - loss: 0.0047 - acc: 0.9983 - val_loss: 0.0484 - val_acc: 0.9913 - lr: 3.1250e-04\n",
      "Epoch 35/200\n",
      "148/148 [==============================] - 8s 55ms/step - loss: 0.0050 - acc: 0.9983 - val_loss: 0.0336 - val_acc: 0.9935 - lr: 3.1250e-04\n",
      "Epoch 36/200\n",
      "148/148 [==============================] - 8s 54ms/step - loss: 0.0042 - acc: 0.9985 - val_loss: 0.0739 - val_acc: 0.9891 - lr: 1.5625e-04\n",
      "Epoch 37/200\n",
      "148/148 [==============================] - 8s 53ms/step - loss: 0.0016 - acc: 1.0000 - val_loss: 0.0578 - val_acc: 0.9891 - lr: 1.5625e-04\n",
      "Epoch 38/200\n",
      "148/148 [==============================] - 8s 54ms/step - loss: 0.0031 - acc: 0.9994 - val_loss: 0.0628 - val_acc: 0.9891 - lr: 1.5625e-04\n",
      "Epoch 39/200\n",
      "148/148 [==============================] - 8s 54ms/step - loss: 0.0030 - acc: 0.9987 - val_loss: 0.0754 - val_acc: 0.9891 - lr: 7.8125e-05\n",
      "Epoch 40/200\n",
      "148/148 [==============================] - 8s 54ms/step - loss: 0.0014 - acc: 1.0000 - val_loss: 0.0668 - val_acc: 0.9891 - lr: 7.8125e-05\n",
      "Epoch 41/200\n",
      "148/148 [==============================] - 8s 54ms/step - loss: 0.0024 - acc: 0.9994 - val_loss: 0.0767 - val_acc: 0.9891 - lr: 7.8125e-05\n",
      "Epoch 42/200\n",
      "148/148 [==============================] - 8s 54ms/step - loss: 0.0016 - acc: 0.9996 - val_loss: 0.0697 - val_acc: 0.9891 - lr: 3.9062e-05\n",
      "Epoch 43/200\n",
      "148/148 [==============================] - 8s 54ms/step - loss: 0.0013 - acc: 1.0000 - val_loss: 0.0625 - val_acc: 0.9891 - lr: 3.9062e-05\n",
      "Epoch 44/200\n",
      "148/148 [==============================] - 8s 54ms/step - loss: 0.0015 - acc: 0.9996 - val_loss: 0.0663 - val_acc: 0.9891 - lr: 3.9062e-05\n",
      "Epoch 45/200\n",
      "148/148 [==============================] - 8s 54ms/step - loss: 0.0013 - acc: 1.0000 - val_loss: 0.0690 - val_acc: 0.9891 - lr: 1.9531e-05\n",
      "Epoch 46/200\n",
      "148/148 [==============================] - 8s 54ms/step - loss: 0.0013 - acc: 0.9998 - val_loss: 0.0671 - val_acc: 0.9891 - lr: 1.9531e-05\n",
      "Epoch 47/200\n",
      "148/148 [==============================] - 8s 54ms/step - loss: 0.0018 - acc: 0.9994 - val_loss: 0.0687 - val_acc: 0.9891 - lr: 1.9531e-05\n",
      "Epoch 48/200\n",
      "148/148 [==============================] - 8s 54ms/step - loss: 0.0013 - acc: 0.9996 - val_loss: 0.0696 - val_acc: 0.9891 - lr: 9.7656e-06\n",
      "Epoch 49/200\n",
      "148/148 [==============================] - 8s 54ms/step - loss: 0.0010 - acc: 1.0000 - val_loss: 0.0719 - val_acc: 0.9891 - lr: 9.7656e-06\n",
      "Epoch 50/200\n",
      "148/148 [==============================] - 8s 54ms/step - loss: 0.0015 - acc: 0.9998 - val_loss: 0.0671 - val_acc: 0.9891 - lr: 9.7656e-06\n",
      "Epoch 51/200\n",
      "148/148 [==============================] - 8s 53ms/step - loss: 8.2776e-04 - acc: 1.0000 - val_loss: 0.0645 - val_acc: 0.9891 - lr: 4.8828e-06\n",
      "Epoch 52/200\n",
      "148/148 [==============================] - 8s 54ms/step - loss: 0.0017 - acc: 0.9998 - val_loss: 0.0669 - val_acc: 0.9891 - lr: 4.8828e-06\n"
     ]
    }
   ],
   "source": [
    "# Custom ResNetV2 학습\n",
    "model2 = keras.models.load_model(path+'Custom_ResNetV2.keras')\n",
    "model2.compile(optimizer=keras.optimizers.Adam(0.01),\n",
    "               loss='sparse_categorical_crossentropy',\n",
    "               metrics=['acc'])\n",
    "\n",
    "hist2 = model2.fit(train_ds,\n",
    "                   validation_data=valid_ds,\n",
    "                   epochs=200,\n",
    "                   callbacks=[reduce_lr2, e_stop2, TBoard2])\n",
    "\n",
    "model2._name = 'Trained_ResNetV2'\n",
    "keras.models.save_model(model2, '/content/Trained_ResNetV2.keras')\n",
    "hist_csv = pd.DataFrame(hist2.history)\n",
    "hist_csv.to_csv('ResNetV2Hist.csv')"
   ]
  },
  {
   "cell_type": "code",
   "execution_count": 7,
   "id": "a2ea3c97-6107-4618-b709-879a499354af",
   "metadata": {
    "colab": {
     "base_uri": "https://localhost:8080/"
    },
    "id": "a2ea3c97-6107-4618-b709-879a499354af",
    "outputId": "5d9c58c7-082c-4f94-a0fd-8ed180e2a86c"
   },
   "outputs": [
    {
     "name": "stdout",
     "output_type": "stream",
     "text": [
      "15/15 [==============================] - 0s 12ms/step - loss: 0.0651 - acc: 0.9848\n",
      "15/15 [==============================] - 0s 19ms/step - loss: 0.0333 - acc: 0.9957\n",
      "ResNet   valid acc : 0.985\n",
      "ResNetV2 valid acc : 0.996\n"
     ]
    }
   ],
   "source": [
    "# 모델 검증성능 평가\n",
    "\n",
    "_, acc1 = model.evaluate(valid_ds)\n",
    "_, acc2 = model2.evaluate(valid_ds)\n",
    "\n",
    "print(f\"ResNet   valid acc : {round(acc1,3)}\")\n",
    "print(f\"ResNetV2 valid acc : {round(acc2,3)}\")"
   ]
  },
  {
   "cell_type": "code",
   "execution_count": 8,
   "id": "zAiQHvsOOMa3",
   "metadata": {
    "colab": {
     "base_uri": "https://localhost:8080/"
    },
    "id": "zAiQHvsOOMa3",
    "outputId": "d5ec8b67-e0d2-4494-f179-67e231720b39"
   },
   "outputs": [
    {
     "name": "stdout",
     "output_type": "stream",
     "text": [
      "  adding: content/Tensorboard/ (stored 0%)\n",
      "  adding: content/Tensorboard/resnet/ (stored 0%)\n",
      "  adding: content/Tensorboard/resnet/train/ (stored 0%)\n",
      "  adding: content/Tensorboard/resnet/train/events.out.tfevents.1684066141.a44648d41998.834.0.v2 (deflated 69%)\n",
      "  adding: content/Tensorboard/resnet/validation/ (stored 0%)\n",
      "  adding: content/Tensorboard/resnet/validation/events.out.tfevents.1684066201.a44648d41998.834.1.v2 (deflated 77%)\n",
      "  adding: content/Tensorboard/resnetv2/ (stored 0%)\n",
      "  adding: content/Tensorboard/resnetv2/train/ (stored 0%)\n",
      "  adding: content/Tensorboard/resnetv2/train/events.out.tfevents.1684066500.a44648d41998.834.2.v2 (deflated 69%)\n",
      "  adding: content/Tensorboard/resnetv2/validation/ (stored 0%)\n",
      "  adding: content/Tensorboard/resnetv2/validation/events.out.tfevents.1684066527.a44648d41998.834.3.v2 (deflated 78%)\n"
     ]
    }
   ],
   "source": [
    "!zip -r /content/TBoard.zip /content/Tensorboard"
   ]
  }
 ],
 "metadata": {
  "accelerator": "GPU",
  "colab": {
   "gpuType": "A100",
   "machine_shape": "hm",
   "provenance": []
  },
  "gpuClass": "standard",
  "kernelspec": {
   "display_name": "Python 3 (ipykernel)",
   "language": "python",
   "name": "python3"
  },
  "language_info": {
   "codemirror_mode": {
    "name": "ipython",
    "version": 3
   },
   "file_extension": ".py",
   "mimetype": "text/x-python",
   "name": "python",
   "nbconvert_exporter": "python",
   "pygments_lexer": "ipython3",
   "version": "3.11.3"
  }
 },
 "nbformat": 4,
 "nbformat_minor": 5
}
